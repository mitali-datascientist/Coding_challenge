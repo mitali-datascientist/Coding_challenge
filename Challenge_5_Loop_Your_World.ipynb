{
  "nbformat": 4,
  "nbformat_minor": 0,
  "metadata": {
    "colab": {
      "name": "Challenge-5: Loop Your World.ipynb",
      "provenance": [],
      "authorship_tag": "ABX9TyNyInQ7AIhGESaeClNcZj0+"
    },
    "kernelspec": {
      "name": "python3",
      "display_name": "Python 3"
    }
  },
  "cells": [
    {
      "cell_type": "markdown",
      "metadata": {
        "id": "5iwpnWsvElb1"
      },
      "source": [
        "### Loop your world (100 Marks)\n",
        "For this challenge, you need to take an integer value as input from stdin, calculate its factorial and print the result to the stdout. 1\n",
        "\n",
        "##### Input Format\n",
        "A single integer value to be taken as input from stdin and stored it in a variable of your choice. \n",
        "\n",
        "#####Constraints\n",
        "1 < = n < = 15\n",
        "\n",
        "#####Output Format\n",
        "Print the value which you will get after calculating the factorial of the input. \n",
        "\n",
        "#####Sample TestCase 1\n",
        "Input\n",
        "5\n",
        "Output\n",
        "120\n",
        "#####Explanation\n",
        "For a number, we will calculate its factorial by multiplying the number with the numbers which comes between 1(inclusive) and the number itself.\n",
        "For input as 5, its factorial will be 1*2*3*4*5 = 120.\n",
        "factorial of n (n!) = 1*2*3*4....n\n",
        "\n",
        "#####Time Limit(X):\n",
        "1.00 sec(s) for each input.\n",
        "#####Memory Limit:\n",
        "512 MB\n",
        "#####Source Limit:\n",
        "100 KB\n",
        "#####Allowed Languages:\n",
        "C, C++, C++11, C++14, C#, Java, Java 8, PHP, PHP 7, Python, Python 3, Perl, Ruby, Node Js, Scala, Clojure, Haskell, Lua, Erlang, Swift, VBnet, Js, Objc, Pascal, Go, F#, D, Groovy, Tcl, Ocaml, Smalltalk, Cobol, Racket, Bash, GNU Octave, Rust, Common LISP, R, Julia, Fortran, Ada, Prolog, Icon, Elixir, CoffeeScript, Brainfuck, Pypy, Lolcode, Nim, Picolisp, Pike\n"
      ]
    },
    {
      "cell_type": "code",
      "metadata": {
        "colab": {
          "base_uri": "https://localhost:8080/"
        },
        "id": "9RmriQcOEkoq",
        "outputId": "71a8ed79-25e9-4655-cf0e-d7b29841a960"
      },
      "source": [
        "\n",
        "def main():\n",
        "\n",
        " # Write code here \n",
        " n = int(input())\n",
        " factorial = 1\n",
        "\n",
        "# check if the number is negative, positive or zero\n",
        " if n < 0:\n",
        "   return None\n",
        " elif n == 0:\n",
        "   return 1;\n",
        " else:\n",
        "   for i in range(1,n + 1):\n",
        "       factorial = factorial*i\n",
        "   print(factorial)\n",
        "\n",
        "main()\n"
      ],
      "execution_count": 1,
      "outputs": [
        {
          "output_type": "stream",
          "text": [
            "5\n",
            "120\n"
          ],
          "name": "stdout"
        }
      ]
    },
    {
      "cell_type": "code",
      "metadata": {
        "id": "Uc7R_WqHE2Mk"
      },
      "source": [
        ""
      ],
      "execution_count": null,
      "outputs": []
    }
  ]
}