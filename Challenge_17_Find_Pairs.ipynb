{
  "nbformat": 4,
  "nbformat_minor": 0,
  "metadata": {
    "colab": {
      "name": "Challenge-17 : Find Pairs.ipynb",
      "provenance": [],
      "authorship_tag": "ABX9TyMuji66hc0RsKbkTPEVRWxd"
    },
    "kernelspec": {
      "name": "python3",
      "display_name": "Python 3"
    }
  },
  "cells": [
    {
      "cell_type": "markdown",
      "metadata": {
        "id": "xJLf7FPOY9hl"
      },
      "source": [
        "##Find pairs (100 Marks)\n",
        "For this challenge, you need to take array and an integer as an input, check for pair in array with sum as that of an integer and if you find those two numbers in the array return true else return false.\n",
        "\n",
        "#### Input Format\n",
        "You need to take an integer input on first line which tells about the size of the array.Another line will have array elements separated by spaces. Last line will have an integer input that defines the number for which the pair has to be searched in the array. \n",
        "\n",
        "#### Constraints\n",
        "1 < n < 10^5\n",
        "1 < A[i] < 10^5\n",
        "\n",
        "#### Output Format\n",
        "Print 'True' if the pair found in the array element else print 'False' to the stdout. \n",
        "\n",
        "#### Sample TestCase 1\n",
        "Input\n",
        "7\n",
        "33 12 -76 11 9 7 6\n",
        "20\n",
        "####Output\n",
        "True"
      ]
    },
    {
      "cell_type": "code",
      "metadata": {
        "id": "rTkyYojAY1G3"
      },
      "source": [
        "def main():\n",
        " arr = []\n",
        " # Write code here \n",
        " a = int(input())\n",
        " lst = list(map(int,input(\"\").strip().split()))[:a]\n",
        " b = int(input())\n",
        " #print(len(lst))\n",
        " flag = 0\n",
        " for i in range(a-1):\n",
        "    #print(i)\n",
        "    #print(lst[i])\n",
        "    #print(lst[i+1])\n",
        "    #print(lst[i] + lst[i+1])\n",
        "    if(lst[i] + lst[i+1] == b):\n",
        "        #print(lst[i] + lst[i+1])\n",
        "        flag =1 \n",
        " if flag == 1: \n",
        "     print(\"True\")\n",
        " else: \n",
        "     print(\"False\")\n",
        "\n",
        "main()"
      ],
      "execution_count": null,
      "outputs": []
    }
  ]
}