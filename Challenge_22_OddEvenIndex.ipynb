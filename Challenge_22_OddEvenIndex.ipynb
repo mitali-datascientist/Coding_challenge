{
  "nbformat": 4,
  "nbformat_minor": 0,
  "metadata": {
    "colab": {
      "name": "Challenge-22 : OddEvenIndex.ipynb",
      "provenance": [],
      "authorship_tag": "ABX9TyOFakEE34ETGNJubFzt6pUK"
    },
    "kernelspec": {
      "name": "python3",
      "display_name": "Python 3"
    }
  },
  "cells": [
    {
      "cell_type": "markdown",
      "metadata": {
        "id": "aXr9hEhX-vsc"
      },
      "source": [
        "### War between odd and even (100 Marks)\n",
        "For this challenge, you need to take number of elements as input on one line and array elements as an input on another line. You need to find the numbers that are present at odd index, add them. find the numbers that are present at even index, add them and then subtract the smallest of the two values from the lager one.\n",
        "Note:\n",
        "Array indexes always starts from 0.\n",
        "\n",
        "###### Input Format\n",
        "In this challenge, you will take number of elements as input on one line and array elements which are space separated as input on another line. \n",
        "\n",
        "###### Constraints\n",
        "1 <  N < 10^5\n",
        "1 < A[i] < 10^5\n",
        "\n",
        "###### Output Format\n",
        "You will print the value after subtraction to the stdout.\n",
        "\n",
        "###### Sample TestCase 1\n",
        "Input\n",
        "6\n",
        "11 22 33 44 55 66\n",
        "Output\n",
        "33"
      ]
    },
    {
      "cell_type": "code",
      "metadata": {
        "id": "tYRDKgTg-thV"
      },
      "source": [
        "def main():\n",
        "\n",
        " # Write code here \n",
        " n = int(input())\n",
        " lst = list(map(int,input(\"\").strip().split()))[:n]\n",
        " even =0 \n",
        " odd=0\n",
        " for i in range(n): \n",
        "    if i% 2 == 0: \n",
        "        even += lst[i]\n",
        "    else : \n",
        "        odd += lst[i]\n",
        " res = 0\n",
        " if even >odd : \n",
        "     res = even - odd\n",
        " else: \n",
        "     res= odd- even\n",
        " print(res)\n",
        "main()\n"
      ],
      "execution_count": null,
      "outputs": []
    }
  ]
}