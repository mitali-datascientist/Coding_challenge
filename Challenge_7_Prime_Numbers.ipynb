{
  "nbformat": 4,
  "nbformat_minor": 0,
  "metadata": {
    "colab": {
      "name": "Challenge-7:Prime Numbers.ipynb",
      "provenance": [],
      "authorship_tag": "ABX9TyM4+0SC2LvUiGBR5zDcoKZb",
      "include_colab_link": true
    },
    "kernelspec": {
      "name": "python3",
      "display_name": "Python 3"
    }
  },
  "cells": [
    {
      "cell_type": "markdown",
      "metadata": {
        "id": "view-in-github",
        "colab_type": "text"
      },
      "source": [
        "<a href=\"https://colab.research.google.com/github/mitali-datascientist/Coding_challenge/blob/main/Challenge_7_Prime_Numbers.ipynb\" target=\"_parent\"><img src=\"https://colab.research.google.com/assets/colab-badge.svg\" alt=\"Open In Colab\"/></a>"
      ]
    },
    {
      "cell_type": "markdown",
      "metadata": {
        "id": "Qicf5c0koFxW"
      },
      "source": [
        "### Count special numbers between boundaries (100 Marks)\n",
        "For this challenge, you are given a range and you need to find how many prime numbers lying between the given range.\n",
        "\n",
        "###### Input Format\n",
        "For this challenge, you need to take two integers on separate lines. These numbers defines the range. \n",
        "\n",
        "######Constraints\n",
        "1 < = ( a , b ) < = 100000\n",
        "\n",
        "######Output Format\n",
        "output will be the single number which tells how many prime numbers are there between given range. \n",
        "\n",
        "######Sample TestCase 1\n",
        "Input\n",
        "1\n",
        "20\n",
        "Output\n",
        "8\n",
        "######Explanation\n",
        "There are 8 prime numbers which lies in the given range.\n",
        "They are 2, 3, 5, 7, 11, 13, 17, 19\n",
        "\n",
        "######Time Limit(X):\n",
        "1.00 sec(s) for each input.\n",
        "######Memory Limit:\n",
        "512 MB\n",
        "Source Limit:\n",
        "100 KB\n",
        "Allowed Languages:\n",
        "C, C++, C++11, C++14, C#, Java, Java 8, PHP, PHP 7, Python, Python 3, Perl, Ruby, Node Js, Scala, Clojure, Haskell, Lua, Erlang, Swift, VBnet, Js, Objc, Pascal, Go, F#, D, Groovy, Tcl, Ocaml, Smalltalk, Cobol, Racket, Bash, GNU Octave, Rust, Common LISP, R, Julia, Fortran, Ada, Prolog, Icon, Elixir, CoffeeScript, Brainfuck, Pypy, Lolcode, Nim, Picolisp, Pike\n"
      ]
    },
    {
      "cell_type": "code",
      "metadata": {
        "colab": {
          "base_uri": "https://localhost:8080/"
        },
        "id": "ZkcVhXftoD1G",
        "outputId": "385a4ede-3066-4c83-960e-26aae66be40a"
      },
      "source": [
        "def main():\n",
        "\n",
        " # Write code here \n",
        " a = int(input())\n",
        " b = int(input())\n",
        "\n",
        " flag = 0\n",
        " arr = []\n",
        " for i in range(a,b+1): \n",
        "     if (i==1): \n",
        "         continue \n",
        "     # flag variable to tell\n",
        "        # if i is prime or not\n",
        "     flag = 1\n",
        "         \n",
        "     for j in range(2, i // 2 + 1):\n",
        "        if (i % j == 0):\n",
        "            flag = 0\n",
        "            break\n",
        "             \n",
        "        # flag = 1 means i is prime\n",
        "        # and flag = 0 means i is not prime\n",
        "     if (flag == 1):\n",
        "        arr.append(i)\n",
        "        #print(i, end = \" \")\n",
        " print(len(arr))\n",
        "\n",
        "main()\n"
      ],
      "execution_count": 1,
      "outputs": [
        {
          "output_type": "stream",
          "text": [
            "1\n",
            "20\n",
            "8\n"
          ],
          "name": "stdout"
        }
      ]
    },
    {
      "cell_type": "code",
      "metadata": {
        "id": "VfcsZo57r0EH"
      },
      "source": [
        ""
      ],
      "execution_count": null,
      "outputs": []
    }
  ]
}