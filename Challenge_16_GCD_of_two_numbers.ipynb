{
  "nbformat": 4,
  "nbformat_minor": 0,
  "metadata": {
    "colab": {
      "name": "Challenge - 16 : GCD of two numbers.ipynb",
      "provenance": [],
      "authorship_tag": "ABX9TyPZhQ+Gwz+Lw27u5Yio97tJ"
    },
    "kernelspec": {
      "name": "python3",
      "display_name": "Python 3"
    }
  },
  "cells": [
    {
      "cell_type": "markdown",
      "metadata": {
        "id": "-oAPIeUxLJgG"
      },
      "source": [
        "## GCD of two numbers (100 Marks)\n",
        "For this challenge, you need to take input of two numbers , calculate their greatest common divisor (GCD) and print it to the stdout.\n",
        "\n",
        "#### Input Format\n",
        "You need to take two integers as an input which are separated by a single space. \n",
        "\n",
        "#### Constraints\n",
        "1 < (a,b) < 10^5\n",
        "\n",
        "#### Output Format\n",
        "Print the single integer result to the stdout. \n",
        "\n",
        "#### Sample TestCase 1\n",
        "Input\n",
        "81 81\n",
        "Output\n",
        "81\n",
        "#### Explanation\n",
        "81 = 3*3*3*3\n",
        "81 = 3*3*3*3\n",
        "so common to both is 3*3*3*3 which is 81."
      ]
    },
    {
      "cell_type": "code",
      "metadata": {
        "id": "ApJEpiMOIycW",
        "colab": {
          "base_uri": "https://localhost:8080/"
        },
        "outputId": "84c6f44e-7775-43ed-9b2c-09c6172d6e04"
      },
      "source": [
        "def main():\n",
        "\n",
        " # Write code here \n",
        " a, b = map(int,input().split())\n",
        " def hcfnaive(a,b): \n",
        "    if(b==0): \n",
        "        return a \n",
        "    else: \n",
        "        return hcfnaive(b,a%b) \n",
        " print(hcfnaive(a,b))\n",
        " \n",
        "\n",
        "main()\n"
      ],
      "execution_count": 1,
      "outputs": [
        {
          "output_type": "stream",
          "text": [
            "16 16\n",
            "16\n"
          ],
          "name": "stdout"
        }
      ]
    },
    {
      "cell_type": "code",
      "metadata": {
        "id": "4XTO1YJYLxXZ"
      },
      "source": [
        ""
      ],
      "execution_count": null,
      "outputs": []
    }
  ]
}