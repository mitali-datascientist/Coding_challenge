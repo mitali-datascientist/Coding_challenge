{
  "nbformat": 4,
  "nbformat_minor": 0,
  "metadata": {
    "colab": {
      "name": "Challenge-24 : OddEvenAvg.ipynb",
      "provenance": [],
      "authorship_tag": "ABX9TyMvjfL+lGdnY3uowTsMR42/"
    },
    "kernelspec": {
      "name": "python3",
      "display_name": "Python 3"
    }
  },
  "cells": [
    {
      "cell_type": "markdown",
      "metadata": {
        "id": "Az9FdZGbGYm3"
      },
      "source": [
        "### Play With Average (100 Marks)\n",
        "For this challenge, you need to take number of elements as input on one line and array elements as an input on another line. You need to find the average of even numbers, then the average of odd numbers and add them (round the averages to the nearest integers).\n",
        "\n",
        "###### Input Format\n",
        "In this challenge, you will take number of elements as input on one line and array elements which are space separated as input on another line. \n",
        "\n",
        "###### Constraints\n",
        "1 < N < 10^5\n",
        "1 < A[i] < 10^5\n",
        "\n",
        "###### Output Format\n",
        "You will print the value after addition of the two averages to the stdout. \n",
        "\n",
        "###### Sample TestCase 1\n",
        "###### Input\n",
        "6\n",
        "11 22 33 44 55 66\n",
        "###### Output\n",
        "77"
      ]
    },
    {
      "cell_type": "code",
      "metadata": {
        "id": "mh-l-aiRGXUg"
      },
      "source": [
        "def main():\n",
        "\n",
        " # Write code here \n",
        " n = int(input())\n",
        " lst = list(map(int,input(\"\").strip().split()))[:n]\n",
        "\n",
        " even,e = 0 , 0\n",
        " odd,o = 0 , 0\n",
        "\n",
        " for i in range(n): \n",
        "    if lst[i]%2 == 0: \n",
        "        e +=1\n",
        "        even += (lst[i])\n",
        "    else: \n",
        "        odd += (lst[i])\n",
        "        o +=1\n",
        " if e>0: \n",
        "    even_avg = round(even/e)\n",
        " else: \n",
        "     even_avg = 0\n",
        " if o>0: \n",
        "    odd_avg = round(odd/o)\n",
        " else: \n",
        "    odd_avg = 0\n",
        "\n",
        " print(even_avg + odd_avg, end=\" \")\n",
        " \n",
        "main()\n"
      ],
      "execution_count": null,
      "outputs": []
    }
  ]
}