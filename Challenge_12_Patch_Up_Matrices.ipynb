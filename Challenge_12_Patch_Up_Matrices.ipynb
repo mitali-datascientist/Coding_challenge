{
  "nbformat": 4,
  "nbformat_minor": 0,
  "metadata": {
    "colab": {
      "name": "Challenge-12 : Patch Up Matrices",
      "provenance": [],
      "authorship_tag": "ABX9TyMn1wYJvJ2D0y2u5Jr67uxO"
    },
    "kernelspec": {
      "name": "python3",
      "display_name": "Python 3"
    }
  },
  "cells": [
    {
      "cell_type": "markdown",
      "metadata": {
        "id": "Nl8vgJZ-xQJb"
      },
      "source": [
        "### Patch Up Two Matrices (100 Marks)\n",
        "For this challenge, you need to take 2 matrices as an input from the stdin , add them and print the resultant matrix to the stdout.\n",
        "\n",
        "Input Format\n",
        "Two matrices to be taken as an input. \n",
        "For each matrix, on first line you need to tell that how many rows and columns your matrix need to have and these values should be separated by space. \n",
        "Then after that, each line will represent will represent each row and you need to enter numbers which each rows should have separated by a space. \n",
        "\n",
        "Constraints\n",
        "1 <  (n,m) < 100\n",
        "1 <  (p,q) < 100\n",
        "\n",
        "Output Format\n",
        "Print the resultant matrix to the stdout where each each line should represent \n",
        "Note : Please do not include space after the numbers which are in the last column as it will affect your submission and you will not get marks. \n",
        "each row and values in the row should be separated by a space. \n",
        "\n",
        "Sample TestCase 1\n",
        "Input\n",
        "3 3\n",
        "1 2 3\n",
        "4 5 6\n",
        "7 8 9\n",
        "3 3\n",
        "2 3 4\n",
        "5 6 7\n",
        "7 8 9\n",
        "Output\n",
        "3 5 7\n",
        "9 11 13\n",
        "14 16 18\n",
        "Explanation\n",
        "Two matrices must have an equal number of rows and columns to be added. The sum of two matrices A and B will be a matrix which has the same number of rows and columns as do A and B. The sum of A and B, denoted A + B, is computed by adding corresponding elements of A and B."
      ]
    },
    {
      "cell_type": "code",
      "metadata": {
        "id": "0nIxwNB_xO4B"
      },
      "source": [
        "def mat_input():\n",
        "    row, col = map(int,input().split())\n",
        "    arr=[]\n",
        "    for i in range(row):\n",
        "        arr.append(list(map(int, input().split())))\n",
        "    return arr\n",
        "\n",
        "def main():\n",
        "\n",
        " # Write code here \n",
        " arr1 = mat_input()\n",
        " arr2 = mat_input()\n",
        " arr3 = []\n",
        " for i in range(len(arr1)):\n",
        "    new = []\n",
        "    for j in range(len(arr1[0])):\n",
        "        new.append(arr1[i][j]+arr2[i][j])\n",
        "    arr3.append(new)\n",
        "    #print(len(arr3))\n",
        " for i in range(len(arr3)):\n",
        "    for j in range(len(arr3)):\n",
        "        if i==j==len(arr3)-1:\n",
        "            print(arr3[i][j], end=\" \")\n",
        "            break\n",
        "        if j!=len(arr3)-1:\n",
        "            print(arr3[i][j], end=\" \")\n",
        "        elif j==len(arr3)-1:\n",
        "            print(arr3[i][j])  \n",
        " return None           \n",
        "main()\n"
      ],
      "execution_count": null,
      "outputs": []
    }
  ]
}