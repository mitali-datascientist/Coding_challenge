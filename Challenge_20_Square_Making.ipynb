{
  "nbformat": 4,
  "nbformat_minor": 0,
  "metadata": {
    "colab": {
      "name": "Challenge-20 : Square Making.ipynb",
      "provenance": [],
      "authorship_tag": "ABX9TyMourA40ODBXGrLywnWFy7O"
    },
    "kernelspec": {
      "name": "python3",
      "display_name": "Python 3"
    }
  },
  "cells": [
    {
      "cell_type": "markdown",
      "metadata": {
        "id": "oKDtWBvw2-Xu"
      },
      "source": [
        "## Square making (100 Marks)\n",
        "You need to print the following pattern\n",
        "\n",
        "\n",
        "![image.png](data:image/png;base64,iVBORw0KGgoAAAANSUhEUgAAAHIAAAB4CAYAAAAuRqYbAAADwElEQVR4Ae3asU/bQBTHcf65zh3KXFViZGJKFyQCg4UY6JCoA5WaSmVARAxUSC1DlywZEQPMUaV069SF6VWmRDrJRvZzfmcnx3dAWLL1Ave7z51jv4353Iyf9R+DDUJc/xDzDAkykRWJIAkyjSUpla0FkYhE5CppRiQiEYnIRBQQJEHKn6axRyYyqQiSIJ9udq6HdnRddePz206zS7utGjRlrfmNHWU38iVslfbF8G9pLnJ2Zye7J/bj66H1P323/s7YpiVB3V8MLfvy04Z7Izsd9Cz79rc4uMpa8webfDy0D1eX1t8b29luz0bTqom2/uebB5mHNruz4dYb29we2/TX84Nxe3Fgb1+9s+zqTzHERfjKWnmYg23bfL3zIkLMZTYPMh/497nIY8s+5yJHNpkVw7w/P7Z+LnJ/ZGeDnvXPS8JU1noM8eBRZLb/X+Rw8vD8BFpMpDX/3TzIxT+u3NeUtdgji6rCTZXj1Ryf5UUuZPK70+WbIBOZgARJkKu5V7zUPRyRiETkKulHJCIRichEFBAkQcofHrBHJjKpCJIgudlhj0xEQVpBKt8hKmvxPrLmkqnss1HWomenZoDhsqjss1HWomfHEaayz0ZZi54dR4ihSuW+pqzFHtkw0DBcjuVPbqrukHkgkMikI0iCZAmuWu7aPI9IRCKyTXFVn4VIRCKySkmb5xGJSES2Ka7qsxCJSERWKWnzPCIRicg2xVV9FiIR+SRS+Q5RWYv3kTWXTGWfjbIWPTs1AwyXImWfjbIWPTuOMJV9Nspa9Ow4QgxVKvc1ZS32yIaBhuFyTM9O1fclzpdD43tkIqsHQRJkOXGWvm7GBZGI7GbmIb583BGJyPKZgZhuxgWRiOxm5iG+fNwRicjymYGYbsYFkYjsZuYhvnzclxepfIeorMX7yPLECxKUfTbKWvTs1Aww3FOUfTbKWvTsOMJU9tkoa9Gz4wgxVKnc15S12CMbBhqGyzE9O4WbKiZFrUmx/NcPBrrWQMeeoASZyEQkSILkpij2cumpj0hEItIjJva1iEQkImMr89RHJCIR6RET+1pEIhKRsZV56iMSkU8ile8QlbV4H1lzyVT22Shr0bNTM8BwKVL22Shr0bPjCFPZZ6OsRc+OI8RQpXJfU9Zij2wYaBgux613DfD1I5FJR5AEyRLsefIS+1pEIhKRsZV56iMSkYj0iIl9LSIRicjYyjz1EYlIRHrExL4WkYhEZGxlnvqIRCQiPWJiX4tIRCIytjJPfUQiEpEeMbGvRSQiERlbmaf+P7bdIHGTXvdZAAAAAElFTkSuQmCC)"
      ]
    },
    {
      "cell_type": "code",
      "metadata": {
        "colab": {
          "base_uri": "https://localhost:8080/"
        },
        "id": "yxFiuz2i29Q2",
        "outputId": "e2f27226-ab7f-4b8f-ec1f-a9a921d57f2d"
      },
      "source": [
        "def main():\n",
        "\n",
        " # Write code here \n",
        " for i in range(5): \n",
        "     for j in range(5): \n",
        "        if i!=j and j==4: \n",
        "            print(\"*\")\n",
        "        elif i==4 and j==4:\n",
        "            print('*',end='')\n",
        "        else:\n",
        "            print('*',end=' ')\n",
        "\n",
        "main()\n"
      ],
      "execution_count": 1,
      "outputs": [
        {
          "output_type": "stream",
          "text": [
            "* * * * *\n",
            "* * * * *\n",
            "* * * * *\n",
            "* * * * *\n",
            "* * * * *"
          ],
          "name": "stdout"
        }
      ]
    },
    {
      "cell_type": "code",
      "metadata": {
        "id": "EYjLQJUn3K6M"
      },
      "source": [
        ""
      ],
      "execution_count": null,
      "outputs": []
    }
  ]
}