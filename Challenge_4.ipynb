{
  "nbformat": 4,
  "nbformat_minor": 0,
  "metadata": {
    "colab": {
      "name": "Challenge-4.ipynb",
      "provenance": [],
      "authorship_tag": "ABX9TyMMoQc3riiK4E5TjIHA8HXM",
      "include_colab_link": true
    },
    "kernelspec": {
      "name": "python3",
      "display_name": "Python 3"
    }
  },
  "cells": [
    {
      "cell_type": "markdown",
      "metadata": {
        "id": "view-in-github",
        "colab_type": "text"
      },
      "source": [
        "<a href=\"https://colab.research.google.com/github/mitali-datascientist/Coding_challenge/blob/main/Challenge_4.ipynb\" target=\"_parent\"><img src=\"https://colab.research.google.com/assets/colab-badge.svg\" alt=\"Open In Colab\"/></a>"
      ]
    },
    {
      "cell_type": "markdown",
      "metadata": {
        "id": "LIIz6IkkAtYS"
      },
      "source": [
        "#### Decide yourself with conditional statement (100 Marks)\n",
        "For this challenge, you need to read a integer value(default name - age) from stdin, store it in a variable and then compare that value with the conditions given below -\n",
        "    - if age is less than 10, then print 'I am happy as having no responsibilities.' to the stdout.\n",
        "    - if age is equal to or greater than 10 but less than 18, then print 'I am still happy but starts feeling pressure of life.' to the stdout.\n",
        "    - if age is equal to or greater than 18, then print 'I am very much happy as i handled the pressure very well.' to the stdout. \n",
        "\n",
        "##### Input Format\n",
        "A single line to be taken as input and save it into a variable of your choice(Default name - age). \n",
        "\n",
        "#####Constraints\n",
        "1 < = age < = 100 \n",
        "\n",
        "##### Output Format\n",
        "Print the sentence according to the value of the integer which you had taken as an input. \n",
        "\n",
        "#####Sample TestCase 1\n",
        "Input\n",
        "8\n",
        "#####Output\n",
        "I am happy as having no responsibilities.\n",
        "#####Time Limit(X):\n",
        "1.00 sec(s) for each input.\n",
        "#####Memory Limit:\n",
        "512 MB\n",
        "#####Source Limit:\n",
        "100 KB\n",
        "#####Allowed Languages:\n",
        "C, C++, C++11, C++14, C#, Java, Java 8, PHP, PHP 7, Python, Python 3, Perl, Ruby, Node Js, Scala, Clojure, Haskell, Lua, Erlang, Swift, VBnet, Js, Objc, Pascal, Go, F#, D, Groovy, Tcl, Ocaml, Smalltalk, Cobol, Racket, Bash, GNU Octave, Rust, Common LISP, R, Julia, Fortran, Ada, Prolog, Icon, Elixir, CoffeeScript, Brainfuck, Pypy, Lolcode, Nim, Picolisp, Pike"
      ]
    },
    {
      "cell_type": "code",
      "metadata": {
        "colab": {
          "base_uri": "https://localhost:8080/"
        },
        "id": "wq3gTKfzAskL",
        "outputId": "ea1904af-b33d-4c9c-bc78-a240bffcb8f0"
      },
      "source": [
        "def main():\n",
        "\n",
        " # Write code here \n",
        " age = int(input())\n",
        " \n",
        " if age < 10 : \n",
        "    print (\"I am happy as having no responsibilities.\")\n",
        "\n",
        " elif 10<= age < 18 :\n",
        "    print(\"'I am still happy but starts feeling pressure of life.\")\n",
        "  \n",
        " elif 18<=age <= 100 : \n",
        "    print(\"I am very much happy as i handled the pressure very well.\")\n",
        "\n",
        " else: \n",
        "    return none \n",
        "\n",
        "main()\n"
      ],
      "execution_count": 1,
      "outputs": [
        {
          "output_type": "stream",
          "text": [
            "8\n",
            "I am happy as having no responsibilities.\n"
          ],
          "name": "stdout"
        }
      ]
    },
    {
      "cell_type": "code",
      "metadata": {
        "id": "NZ9UJR1tA9Cc"
      },
      "source": [
        ""
      ],
      "execution_count": null,
      "outputs": []
    }
  ]
}