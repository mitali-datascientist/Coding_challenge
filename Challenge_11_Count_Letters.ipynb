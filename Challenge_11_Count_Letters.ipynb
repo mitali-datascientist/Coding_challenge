{
  "nbformat": 4,
  "nbformat_minor": 0,
  "metadata": {
    "colab": {
      "name": "Challenge - 11 : Count Letters.ipynb",
      "provenance": [],
      "authorship_tag": "ABX9TyPKHmKR8UsTXKUZsJv7Ljpk"
    },
    "kernelspec": {
      "name": "python3",
      "display_name": "Python 3"
    }
  },
  "cells": [
    {
      "cell_type": "markdown",
      "metadata": {
        "id": "Thz0mNKsMeuS"
      },
      "source": [
        "## Count the letters (100 Marks)\n",
        "For this challenge, you need to take a string as an input from the stdin, count the number of uppercase and lowercase letters and print them to the stdout.\n",
        "\n",
        "#### Input Format\n",
        "A single line of string to be taken as an input and store it in a variable of your choice. \n",
        "\n",
        "####Constraints\n",
        "1 < = |s| < = 100000 \n",
        "\n",
        "####Output Format\n",
        "print the number of uppercase letters on one line and number of lowercase letters on another side. \n",
        "\n",
        "####Sample TestCase 1\n",
        "Input\n",
        "I Am Awesome\n",
        "Output\n",
        "3\n",
        "7\n",
        "####Explanation\n",
        "For the above string which is taken as input, it has 3 uppercase letters which is displayed on one line and 7 lowercase letters which is displayed on another line.\n",
        "\n",
        "####Time Limit(X):\n",
        "1.00 sec(s) for each input."
      ]
    },
    {
      "cell_type": "code",
      "metadata": {
        "colab": {
          "base_uri": "https://localhost:8080/"
        },
        "id": "aDP5jV5aLRD3",
        "outputId": "0785022b-edb1-4341-ea1a-1b94a1b38e20"
      },
      "source": [
        "def main():\n",
        " user_in = str(input(\"\"))\n",
        " # Write code here \n",
        " d={\"UPPER_CASE\":0, \"LOWER_CASE\":0}\n",
        "\n",
        " for c in user_in:\n",
        "   if c.isupper():\n",
        "     d[\"UPPER_CASE\"]+=1\n",
        "   elif c.islower():\n",
        "     d[\"LOWER_CASE\"]+=1\n",
        "   else:\n",
        "     pass\n",
        "\n",
        " print (d[\"UPPER_CASE\"])\n",
        " print (d[\"LOWER_CASE\"])\n",
        "\n",
        "main()\n",
        "\n"
      ],
      "execution_count": 1,
      "outputs": [
        {
          "output_type": "stream",
          "text": [
            "AweSome\n",
            "2\n",
            "5\n"
          ],
          "name": "stdout"
        }
      ]
    },
    {
      "cell_type": "code",
      "metadata": {
        "id": "UxOqK5JYMrKL"
      },
      "source": [
        ""
      ],
      "execution_count": null,
      "outputs": []
    }
  ]
}