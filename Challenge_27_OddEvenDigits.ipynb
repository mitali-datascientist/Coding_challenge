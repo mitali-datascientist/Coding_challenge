{
  "nbformat": 4,
  "nbformat_minor": 0,
  "metadata": {
    "colab": {
      "name": "Challenge-27 : OddEvenDigits.ipynb",
      "provenance": [],
      "authorship_tag": "ABX9TyPh5WzbYUzEWOV82SDkXE//"
    },
    "kernelspec": {
      "name": "python3",
      "display_name": "Python 3"
    }
  },
  "cells": [
    {
      "cell_type": "markdown",
      "metadata": {
        "id": "sijx3uBpUc2v"
      },
      "source": [
        "# Play with digits of a number (100 Marks)\n",
        "For this challenge, you will take an integer input from stdin, store it in a variable, find the digits in that number, identify digits that are odd and add them, identify which digits are even and add them. Subtract the smaller with the larger one.\n",
        "\n",
        "Input Format\n",
        "A single integer value to be taken as input from stdin and stored it in a variable of your choice. \n",
        "\n",
        "Constraints\n",
        "1 < N < 10^9\n",
        "\n",
        "Output Format\n",
        "Print the single number after subtraction. \n",
        "\n",
        "Sample TestCase 1\n",
        "Input\n",
        "34567\n",
        "Output\n",
        "5"
      ]
    },
    {
      "cell_type": "code",
      "metadata": {
        "id": "M0ilmvASUZUi"
      },
      "source": [
        "def main():\n",
        "\n",
        " # Write code here \n",
        " n = int(input())\n",
        " even,odd = 0,0\n",
        " while n > 0 :\n",
        "    rem = n%10\n",
        "    if rem%2 == 0:\n",
        "        even += rem\n",
        "    else:\n",
        "        odd += rem\n",
        "    n = int(n/10)\n",
        " print(int(abs(even-odd)),end='')\n",
        "main()"
      ],
      "execution_count": null,
      "outputs": []
    }
  ]
}