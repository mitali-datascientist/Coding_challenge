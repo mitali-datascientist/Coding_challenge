{
  "nbformat": 4,
  "nbformat_minor": 0,
  "metadata": {
    "colab": {
      "name": "Challenge-18 : Minimum Effort.ipynb",
      "provenance": [],
      "authorship_tag": "ABX9TyNhFKry0SCba8DkArYxL/C8"
    },
    "kernelspec": {
      "name": "python3",
      "display_name": "Python 3"
    }
  },
  "cells": [
    {
      "cell_type": "markdown",
      "metadata": {
        "id": "fh6u6lnI0Blr"
      },
      "source": [
        "## Minimum effort - Maximum output (100 Marks)\n",
        "For this challenge, Given an unsorted array arr[0..n-1] of size n, find the minimum length subarray arr[s..e] such that sorting this subarray makes the whole array sorted.\n",
        "\n",
        "Input Format\n",
        "On the first line, you need to take an integer input which will be the length of the array. Another line will have space separated integer values. \n",
        "\n",
        "Constraints\n",
        "1 < n < 10^5\n",
        "1 < A[i] < 10^5\n",
        "\n",
        "Output Format\n",
        "Space separated integer values present in the subarray. \n",
        "\n",
        "Sample TestCase 1\n",
        "Input\n",
        "13\n",
        "1 2 4 7 10 11 7 12 3 7 16 18 19\n",
        "Output\n",
        "4 7 10 11 7 12 3 7"
      ]
    },
    {
      "cell_type": "code",
      "metadata": {
        "colab": {
          "base_uri": "https://localhost:8080/"
        },
        "id": "to0vVody0AWd",
        "outputId": "3447c2fe-6797-469b-fd52-39fcdae29c9e"
      },
      "source": [
        "def main():\n",
        "\n",
        " # Write code here \n",
        " a =int(input())\n",
        " arr = list(map(int,input(\"\").strip().split()))[:a]\n",
        "\n",
        " start, end = 0, a-1\n",
        " sortarr = sorted(arr)\n",
        " while arr[start] == sortarr[start]:\n",
        "    start += 1\n",
        " while arr[end] == sortarr[end]:\n",
        "    end -= 1\n",
        " for i in range(start,end+1):\n",
        "    if i==end:\n",
        "        print(arr[i],end='')\n",
        "    else:\n",
        "        print(arr[i], end= \" \")\n",
        "\n",
        "main()\n"
      ],
      "execution_count": 1,
      "outputs": [
        {
          "output_type": "stream",
          "text": [
            "10\n",
            "2 4 5 6 7 1 9  4 11 43 \n",
            "2 4 5 6 7 1 9 4"
          ],
          "name": "stdout"
        }
      ]
    },
    {
      "cell_type": "code",
      "metadata": {
        "id": "qsP7B9Dj0JgW"
      },
      "source": [
        ""
      ],
      "execution_count": null,
      "outputs": []
    }
  ]
}