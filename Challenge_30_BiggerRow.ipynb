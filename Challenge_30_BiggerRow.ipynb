{
  "nbformat": 4,
  "nbformat_minor": 0,
  "metadata": {
    "colab": {
      "name": "Challenge-30 : BiggerRow.ipynb",
      "provenance": [],
      "authorship_tag": "ABX9TyOTrEHe+6NhQtvTtjlaB0w7"
    },
    "kernelspec": {
      "name": "python3",
      "display_name": "Python 3"
    }
  },
  "cells": [
    {
      "cell_type": "markdown",
      "metadata": {
        "id": "_3ez-bt0IEZp"
      },
      "source": [
        "Which row is bigger? (100 Marks)\n",
        "For this challenge, you need to take a matrix as an input from the stdin, identify which row has the maximum sum of the digits.For example, in the below matrix\n",
        "1 2 3\n",
        "4 5 6\n",
        "7 8 9\n",
        "Row 1 is 1,2,3\n",
        "Row 2 is 4,5,6\n",
        "Row 3 is 7,8,9\n",
        "\n",
        "Input Format\n",
        "The first line contains two integers N, M denoting the number of rows and columns respectively.\n",
        "Each of the 'N' Next line contains M integers each.\n",
        "\n",
        "Constraints\n",
        "1 < (n,m) < 100\n",
        "\n",
        "Output Format\n",
        "If the sum of the digits of row 1 found to be greater than that of row 2 and row 3, then print 'Row 1' to the stdout. If the sum of all the rows found to be equal, then print 'Equal' to the stdout. \n",
        "\n",
        "Sample TestCase 1\n",
        "Input\n",
        "3 4\n",
        "2 3 4 2\n",
        "1 4 6 5\n",
        "4 8 9 6\n",
        "Output\n",
        "Row 3"
      ]
    },
    {
      "cell_type": "code",
      "metadata": {
        "id": "K2S7HhioHvMw"
      },
      "source": [
        "def main():\n",
        "    row, col = map(int,input().split())\n",
        "    mat = []\n",
        "    max=0\n",
        "    for i in range(row):\n",
        "        arr = list(map(int,input().split()))\n",
        "        if sum(arr)>max:\n",
        "            max = sum(arr)\n",
        "            rowid = i+1\n",
        "    print(\"Row\",rowid,end='')\n",
        "    \n",
        "main()\n"
      ],
      "execution_count": null,
      "outputs": []
    }
  ]
}