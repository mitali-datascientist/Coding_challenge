{
  "nbformat": 4,
  "nbformat_minor": 0,
  "metadata": {
    "colab": {
      "name": "Challenge-9: Narcissitic Number Check.ipynb",
      "provenance": [],
      "authorship_tag": "ABX9TyMX3x6dwAWcD4JgveT0tkQr",
      "include_colab_link": true
    },
    "kernelspec": {
      "name": "python3",
      "display_name": "Python 3"
    }
  },
  "cells": [
    {
      "cell_type": "markdown",
      "metadata": {
        "id": "view-in-github",
        "colab_type": "text"
      },
      "source": [
        "<a href=\"https://colab.research.google.com/github/mitali-datascientist/Coding_challenge/blob/main/Challenge_9_Narcissitic_Number_Check.ipynb\" target=\"_parent\"><img src=\"https://colab.research.google.com/assets/colab-badge.svg\" alt=\"Open In Colab\"/></a>"
      ]
    },
    {
      "cell_type": "markdown",
      "metadata": {
        "id": "QvPFNAAwCSk6"
      },
      "source": [
        "### Is Your Number Narcissistic? (110 Marks)\n",
        "For this challenge, you will take an integer input and store it in a variable and checks whether the input number is a Narcissistic number or not. If it is, then print 'True' else print 'False'.\n",
        "\n",
        "\n",
        "###### Input Format\n",
        "A single integer value to be taken as input from stdin and stored it in a variable of your choice. \n",
        "\n",
        "######Constraints\n",
        "1 < = n < = 18\n",
        "\n",
        "######Output Format\n",
        "print 'True' if your number is Narcissistic otherwise print 'False' to the stdout. \n",
        "\n",
        "######Sample TestCase 1\n",
        "Input\n",
        "1634\n",
        "Output\n",
        "True\n",
        "######Explanation\n",
        "First of all, what is a Narcissistic Number?\n",
        "An n-digit number that is the sum of the nth powers of its digits is called an n-narcissistic number.\n",
        "\n",
        "For example, take the number 1634\n",
        "\n",
        "1634 = 1^4 + 6^4 + 3^4 + 4^4\n",
        "So, this is a Narcissistic Number.\n",
        "\n",
        "######Time Limit(X):\n",
        "1.00 sec(s) for each input.\n",
        "######Memory Limit:\n",
        "512 MB\n",
        "######Source Limit:\n",
        "100 KB\n",
        "######Allowed Languages:\n",
        "C, C++, C++11, C++14, C#, Java, Java 8, PHP, PHP 7, Python, Python 3, Perl, Ruby, Node Js, Scala, Clojure, Haskell, Lua, Erlang, Swift, VBnet, Js, Objc, Pascal, Go, F#, D, Groovy, Tcl, Ocaml, Smalltalk, Cobol, Racket, Bash, GNU Octave, Rust, Common LISP, R, Julia, Fortran, Ada, Prolog, Icon, Elixir, CoffeeScript, Brainfuck, Pypy, Lolcode, Nim, Picolisp, Pike\n"
      ]
    },
    {
      "cell_type": "code",
      "metadata": {
        "colab": {
          "base_uri": "https://localhost:8080/"
        },
        "id": "ifoTam7yCOT0",
        "outputId": "1a72b0fb-88af-4781-ae39-9b9d394bf526"
      },
      "source": [
        "def main():\n",
        "\n",
        " # Write code here \n",
        " a = int(input())\n",
        " \n",
        " \n",
        " def countDigit(n) : \n",
        "    if (n == 0) : \n",
        "        return 0\n",
        "  \n",
        "    return (1 + countDigit(n // 10)) \n",
        "      \n",
        "  \n",
        "# Returns true if n is Narcissistic number \n",
        " def check(n) : \n",
        "      \n",
        "    # Count the number of digits \n",
        "    l = countDigit(n) \n",
        "    dup = n; sm = 0\n",
        "  \n",
        "    # Calculates the sum of digits \n",
        "    # raised to power \n",
        "    while (dup) : \n",
        "        sm = sm + pow(dup % 10, l) \n",
        "        dup = dup // 10\n",
        "    return n == sm\n",
        "    \n",
        " if (check(a)): \n",
        "    print(\"True\")\n",
        " else : \n",
        "    print(\"False\") \n",
        "\n",
        "main()\n",
        "\n"
      ],
      "execution_count": 1,
      "outputs": [
        {
          "output_type": "stream",
          "text": [
            "1634\n",
            "True\n"
          ],
          "name": "stdout"
        }
      ]
    },
    {
      "cell_type": "code",
      "metadata": {
        "id": "MxEtlS6LCrPc"
      },
      "source": [
        ""
      ],
      "execution_count": null,
      "outputs": []
    }
  ]
}