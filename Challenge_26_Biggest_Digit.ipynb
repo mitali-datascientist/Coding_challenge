{
  "nbformat": 4,
  "nbformat_minor": 0,
  "metadata": {
    "colab": {
      "name": "Challenge-26 : Biggest Digit.ipynb",
      "provenance": [],
      "authorship_tag": "ABX9TyOF+WoA+W3s0WAyDK/y1yGR"
    },
    "kernelspec": {
      "name": "python3",
      "display_name": "Python 3"
    }
  },
  "cells": [
    {
      "cell_type": "markdown",
      "metadata": {
        "id": "2LL-v3JURrmj"
      },
      "source": [
        "## Biggest Digit In A Number (100 Marks)\n",
        "For this challenge, you will take an integer input from stdin, store it in a variable, find the digits in a number and then print the biggest of them.\n",
        "\n",
        "Input Format\n",
        "A single integer value to be taken as input from stdin and stored it in a variable of your choice. \n",
        "\n",
        "Constraints\n",
        "1 < N < 10^9\n",
        "\n",
        "Output Format\n",
        "Print the biggest digit in a number. \n",
        "\n",
        "Sample TestCase 1\n",
        "Input\n",
        "345678\n",
        "Output\n",
        "8"
      ]
    },
    {
      "cell_type": "code",
      "metadata": {
        "id": "YPfruZH9RlF7"
      },
      "source": [
        "def main():\n",
        "\n",
        " # Write code here \n",
        " n = int(input())\n",
        " max_val = 0\n",
        " while n > 0 :\n",
        "    rem = n%10\n",
        "    if rem > max_val:\n",
        "        max_val = rem\n",
        "    n /= 10\n",
        " print(max_val,end='')\n",
        "main()\n"
      ],
      "execution_count": null,
      "outputs": []
    }
  ]
}