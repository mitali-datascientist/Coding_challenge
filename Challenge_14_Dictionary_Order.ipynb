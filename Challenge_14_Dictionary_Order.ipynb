{
  "nbformat": 4,
  "nbformat_minor": 0,
  "metadata": {
    "colab": {
      "name": "Challenge -14 : Dictionary Order.ipynb",
      "provenance": [],
      "authorship_tag": "ABX9TyM0q+4aLG86uM8FsSHboUuY"
    },
    "kernelspec": {
      "name": "python3",
      "display_name": "Python 3"
    }
  },
  "cells": [
    {
      "cell_type": "markdown",
      "metadata": {
        "id": "z9piC27w2ZDs"
      },
      "source": [
        "### Lets make a dictionary order (100 Marks)\n",
        "You need to input N words one on each line and output should be lexicographically sorted i.e the words which comes as a output should be alphabetically sorted\n",
        "\n",
        "Input Format\n",
        "You will be taking an integer N from STDIN.\n",
        "Following N lines contains string one on each line.\n",
        "\n",
        "Constraints\n",
        "1 < N < 10000\n",
        "1 < |S| < 1000\n",
        "\n",
        "\n",
        "Output Format\n",
        "The words should be lexicographically sorted and should be displayed one per each line.\n",
        "\n",
        "Sample TestCase 1\n",
        "Input\n",
        "10\n",
        "fortran\n",
        "java\n",
        "perl\n",
        "python\n",
        "php\n",
        "javascript\n",
        "c\n",
        "cpp\n",
        "ruby\n",
        "csharp\n",
        "Output\n",
        "c\n",
        "cpp\n",
        "csharp\n",
        "fortran\n",
        "java\n",
        "javascript\n",
        "perl\n",
        "php\n",
        "python\n",
        "ruby\n",
        "Explanation\n",
        "In mathematics, the lexicographic or lexicographical order (also known as lexical order, dictionary order, alphabetical order or lexicographical product) is a generalization of the way the alphabetical order of words is based on the alphabetical order of their component letters."
      ]
    },
    {
      "cell_type": "code",
      "metadata": {
        "id": "XuAZ9va92YUW"
      },
      "source": [
        "def main():\n",
        " n = int(input())\n",
        " s = []\n",
        " # Write code here \n",
        " for i in range(n): \n",
        "     s.append(input())\n",
        " s.sort()\n",
        "\n",
        " for i in range(len(s)):\n",
        "    if s[i]==s[-1]:\n",
        "        print(s[i],end='')\n",
        "    else:\n",
        "        print(s[i])\n",
        "main()\n"
      ],
      "execution_count": null,
      "outputs": []
    }
  ]
}