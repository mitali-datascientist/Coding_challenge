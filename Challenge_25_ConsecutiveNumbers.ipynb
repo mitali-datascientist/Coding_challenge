{
  "nbformat": 4,
  "nbformat_minor": 0,
  "metadata": {
    "colab": {
      "name": "Challenge-25 : ConsecutiveNumbers.ipynb",
      "provenance": [],
      "authorship_tag": "ABX9TyMl8d+dX8QWTA0Oe3vLxzZk"
    },
    "kernelspec": {
      "name": "python3",
      "display_name": "Python 3"
    }
  },
  "cells": [
    {
      "cell_type": "markdown",
      "metadata": {
        "id": "N5AuGkhtKJ7P"
      },
      "source": [
        "# Consecutive!!! (100 Marks)\n",
        "For this challenge, you need to take number of elements as input on one line and array elements as an input on another line. You need to tell whether the numbers present in the array are consecutive or not.\n",
        "\n",
        "Input Format\n",
        "In this challenge, you will take number of elements as input on one line and array elements which are space separated as input on another line. \n",
        "\n",
        "Constraints\n",
        "1 < N < 10^5\n",
        "1 < A[i] < 10^5\n",
        "\n",
        "Output Format\n",
        "If the array elements are consecutive, print 'True' else print 'False' to the stdout. \n",
        "\n",
        "Sample TestCase 1\n",
        "Input\n",
        "6\n",
        "11 22 33 44 55 66\n",
        "Output\n",
        "False"
      ]
    },
    {
      "cell_type": "code",
      "metadata": {
        "id": "6TmJJ5EjJaNR"
      },
      "source": [
        "def main():\n",
        "\n",
        " # Write code here \n",
        " n = int(input())\n",
        " lst = list(map(int,input(\"\").strip().split()))[:n]\n",
        "\n",
        "\n",
        " start = lst[0]\n",
        " for i in range(n):\n",
        "    if start+i != lst[i]:\n",
        "        print('False',end='')\n",
        "        return 0\n",
        " print('True',end='')\n",
        "main()"
      ],
      "execution_count": null,
      "outputs": []
    }
  ]
}