{
  "nbformat": 4,
  "nbformat_minor": 0,
  "metadata": {
    "colab": {
      "name": "Challenge-10 : Second Largest.ipynb",
      "provenance": [],
      "authorship_tag": "ABX9TyPDunr0TlD7r0S4i8Cw/4G8"
    },
    "kernelspec": {
      "name": "python3",
      "display_name": "Python 3"
    }
  },
  "cells": [
    {
      "cell_type": "markdown",
      "metadata": {
        "id": "aC1BwVCnE8ZI"
      },
      "source": [
        "Who's the second largest? (100 Marks)\n",
        "For this challenge, you need to take number of elements as input on one line and array elements as an input on another line and find the second largest array element and print that element to the stdout.\n",
        "\n",
        "Input Format\n",
        "In this challenge, you will take number of elements as input on one line and array elements which are space separated as input on another line. \n",
        "\n",
        "Constraints\n",
        "1 < = n < = 100000\n",
        "1 < = a[i] < = 10^9\n",
        "\n",
        "Output Format\n",
        "You will print the second largest element to the stdout. \n",
        "\n",
        "Sample TestCase 1\n",
        "Input\n",
        "6\n",
        "11 22 33 44 55 66\n",
        "Output\n",
        "55\n",
        "Explanation\n",
        "Of all the given elements, search the second largest element.\n",
        "\n",
        "Time Limit(X):\n",
        "1.00 sec(s) for each input.\n",
        "Memory Limit:\n",
        "512 MB\n",
        "Source Limit:\n",
        "100 KB\n",
        "Allowed Languages:\n",
        "C, C++, C++11, C++14, C#, Java, Java 8, PHP, PHP 7, Python, Python 3, Perl, Ruby, Node Js, Scala, Clojure, Haskell, Lua, Erlang, Swift, VBnet, Js, Objc, Pascal, Go, F#, D, Groovy, Tcl, Ocaml, Smalltalk, Cobol, Racket, Bash, GNU Octave, Rust, Common LISP, R, Julia, Fortran, Ada, Prolog, Icon, Elixir, CoffeeScript, Brainfuck, Pypy, Lolcode, Nim, Picolisp, Pike\n"
      ]
    },
    {
      "cell_type": "code",
      "metadata": {
        "colab": {
          "base_uri": "https://localhost:8080/"
        },
        "id": "rscFLpWBFGU5",
        "outputId": "34dcd575-9e20-4200-fd4d-2592c43e06d2"
      },
      "source": [
        "def main():\n",
        " \n",
        " a = int(input())\n",
        " lst = list(map(int,input(\"\").strip().split()))[:a]\n",
        " #print(lst)\n",
        "\n",
        " lst.sort()\n",
        " print(lst[-2])\n",
        " return None\n",
        "\n",
        "main()"
      ],
      "execution_count": 8,
      "outputs": [
        {
          "output_type": "stream",
          "text": [
            "2\n",
            "11 55\n",
            "11\n"
          ],
          "name": "stdout"
        }
      ]
    },
    {
      "cell_type": "code",
      "metadata": {
        "id": "ltVFTV4ZFGzy"
      },
      "source": [
        ""
      ],
      "execution_count": null,
      "outputs": []
    }
  ]
}