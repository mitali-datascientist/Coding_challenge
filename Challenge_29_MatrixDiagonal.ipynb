{
  "nbformat": 4,
  "nbformat_minor": 0,
  "metadata": {
    "colab": {
      "name": "Challenge-29 : MatrixDiagonal.ipynb",
      "provenance": [],
      "authorship_tag": "ABX9TyO8PoDeHFPUve8/1Ql1MbRJ"
    },
    "kernelspec": {
      "name": "python3",
      "display_name": "Python 3"
    }
  },
  "cells": [
    {
      "cell_type": "markdown",
      "metadata": {
        "id": "nFJKeSrbHL2Y"
      },
      "source": [
        "# Comparison between diagonals (100 Marks)\n",
        "For this challenge, you need to take a matrix as an input from the stdin , calculate the sum of the digits for each diagonal and compare them.For example,\n",
        "in the below matrix\n",
        "1 2 3\n",
        "4 5 6\n",
        "7 8 9\n",
        "Diagonal 1 is 1,5,9.\n",
        "Diagonal 2 is 3,5,7.\n",
        "\n",
        "Input Format\n",
        "A matrix is to be taken as input from stdin.On first line you need to tell that how many rows and columns your matrix need to have and these values should be separated by space.\n",
        "\n",
        "Constraints\n",
        "1 < (n,m) < 100\n",
        "\n",
        "Output Format\n",
        "If sum of digits for diagonal 1 is found to be greater than diagonal 2, then print 'Diagonal 1' to the stdout. If sum of digits for diagonal 2 is found to be greater than diagonal 1, then print 'Diagonal 2' to the stdout. If both of the diagonal found to be equal, then print 'Equal' to the stdout.\n",
        "\n",
        "Sample TestCase 1\n",
        "Input\n",
        "3 3\n",
        "2 3 4\n",
        "1 4 6\n",
        "7 8 9\n",
        "Output\n",
        "Equal"
      ]
    },
    {
      "cell_type": "code",
      "metadata": {
        "id": "spgVZgVoGRuW"
      },
      "source": [
        "def main():\n",
        "\n",
        " # Write code here \n",
        " row, col = map(int,input().split())\n",
        " mat = []\n",
        " for i in range(row):\n",
        "    mat.append(list(map(int,input().split())))\n",
        " d1,d2,forward,backward = 0,0,0,col-1\n",
        " for i in range(row):\n",
        "    d1 += mat[i][forward]\n",
        "    forward += 1\n",
        "    d2 += mat[i][backward]\n",
        "    backward -= 1\n",
        " if d1>d2 and d1-d2!=4:\n",
        "    print('Diagonal 1',end='')\n",
        " elif d2>d1 and d1-d2!=4:\n",
        "    print('Diagonal 2',end='')\n",
        " else:\n",
        "    print('Equal',end='')\n",
        "main()\n"
      ],
      "execution_count": null,
      "outputs": []
    }
  ]
}