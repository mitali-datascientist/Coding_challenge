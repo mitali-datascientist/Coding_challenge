{
  "nbformat": 4,
  "nbformat_minor": 0,
  "metadata": {
    "colab": {
      "name": "Challenge-19 : Binary to Decimal.ipynb",
      "provenance": [],
      "authorship_tag": "ABX9TyOCXXZvkvXFZJmbJ3Z3PMW6"
    },
    "kernelspec": {
      "name": "python3",
      "display_name": "Python 3"
    }
  },
  "cells": [
    {
      "cell_type": "markdown",
      "metadata": {
        "id": "TwDN_fKc1fWJ"
      },
      "source": [
        "### Binary To Decimal (100 Marks)\n",
        "You will be getting a binary number as an input and you need to convert it into a decimal number.\n",
        "\n",
        "###### Input Format\n",
        "You will be taking a binary number as an input. \n",
        "\n",
        "####### Constraints\n",
        "1 < N < 10^9\n",
        "\n",
        "##### Output Format\n",
        "Print the decimal number to the stdout. \n",
        "\n",
        "###### Sample TestCase 1\n",
        "Input\n",
        "110\n",
        "Output\n",
        "6"
      ]
    },
    {
      "cell_type": "code",
      "metadata": {
        "colab": {
          "base_uri": "https://localhost:8080/"
        },
        "id": "B_P7Ai2p1eL6",
        "outputId": "894fe673-094d-4602-e075-c98abe4c4eb8"
      },
      "source": [
        "def main():\n",
        "\n",
        " # Write code here \n",
        " a = input()\n",
        " print(int(a,2),end='')\n",
        "\n",
        "\n",
        "main()\n"
      ],
      "execution_count": 1,
      "outputs": [
        {
          "output_type": "stream",
          "text": [
            "110011\n",
            "51"
          ],
          "name": "stdout"
        }
      ]
    },
    {
      "cell_type": "code",
      "metadata": {
        "id": "kEzHXF2b1rOm"
      },
      "source": [
        ""
      ],
      "execution_count": null,
      "outputs": []
    }
  ]
}