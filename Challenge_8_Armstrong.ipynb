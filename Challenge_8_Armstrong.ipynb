{
  "nbformat": 4,
  "nbformat_minor": 0,
  "metadata": {
    "colab": {
      "name": "Challenge-8 : Armstrong.ipynb",
      "provenance": [],
      "authorship_tag": "ABX9TyMpdi9UpHsKOWLHLONNC1Ks",
      "include_colab_link": false
    },
    "kernelspec": {
      "name": "python3",
      "display_name": "Python 3"
    }
  },
  "cells": [
    {
      "cell_type": "markdown",
      "metadata": {
        "id": "view-in-github",
        "colab_type": "text"
      },
      "source": [
        "<a href=\"https://colab.research.google.com/github/mitali-datascientist/Coding_challenge/blob/main/Challenge_8_Armstrong.ipynb\" target=\"_parent\"><img src=\"https://colab.research.google.com/assets/colab-badge.svg\" alt=\"Open In Colab\"/></a>"
      ]
    },
    {
      "cell_type": "markdown",
      "metadata": {
        "id": "j4MLRowl5Ffn"
      },
      "source": [
        "#### Is your Number Armstrong? (100 Marks)\n",
        "For this challenge, you need to take an integer input and store it in a variable of your choice and checks whether this number is an Armstrong number or not. If yes print 'True' else print 'False'.\n",
        "\n",
        "#####  Input Format\n",
        "A single integer value to be taken as input from stdin and stored it in a variable. \n",
        "#### Constraints\n",
        "1 < = n < = 18\n",
        "\n",
        "###Output Format\n",
        "print 'True' if your number is Armstrong otherwise print 'False' to the stdout. \n",
        "\n",
        "##### Sample TestCase 1\n",
        "Input\n",
        "370\n",
        "Output\n",
        "True\n",
        "###### Explanation\n",
        "It is a armstrong Number as 3^3 + 7^3 + 0^3 = 370.\n",
        "\n",
        "###### Time Limit(X):\n",
        "1.00 sec(s) for each input.\n",
        "###### Memory Limit:\n",
        "512 MB\n",
        "##### Source Limit:\n",
        "100 KB\n",
        "#### Allowed Languages:\n",
        "C, C++, C++11, C++14, C#, Java, Java 8, PHP, PHP 7, Python, Python 3, Perl, Ruby, Node Js, Scala, Clojure, Haskell, Lua, Erlang, Swift, VBnet, Js, Objc, Pascal, Go, F#, D, Groovy, Tcl, Ocaml, Smalltalk, Cobol, Racket, Bash, GNU Octave, Rust, Common LISP, R, Julia, Fortran, Ada, Prolog, Icon, Elixir, CoffeeScript, Brainfuck, Pypy, Lolcode, Nim, Picolisp, Pike\n"
      ]
    },
    {
      "cell_type": "code",
      "metadata": {
        "colab": {
          "base_uri": "https://localhost:8080/"
        },
        "id": "n24BAsXS1kVn",
        "outputId": "062df4e2-8b9c-473b-cec8-e439b6356035"
      },
      "source": [
        "def main():\n",
        "\n",
        " # Write code here \n",
        " n = int(input())\n",
        "\n",
        " # initialize sum\n",
        " sum = 0\n",
        "\n",
        "# find the sum of the cube of each digit\n",
        " temp = n\n",
        " while temp > 0:\n",
        "    digit = temp % 10\n",
        "    sum += digit ** 3\n",
        "    temp //= 10\n",
        "\n",
        "# display the result\n",
        " if n == sum:\n",
        "    print(\"True\")\n",
        " else:\n",
        "    print(\"False\")\n",
        "\n",
        "main()\n"
      ],
      "execution_count": 1,
      "outputs": [
        {
          "output_type": "stream",
          "text": [
            "370\n",
            "True\n"
          ],
          "name": "stdout"
        }
      ]
    },
    {
      "cell_type": "code",
      "metadata": {
        "id": "Uwc6SyKq7PNh"
      },
      "source": [
        ""
      ],
      "execution_count": null,
      "outputs": []
    }
  ]
}
